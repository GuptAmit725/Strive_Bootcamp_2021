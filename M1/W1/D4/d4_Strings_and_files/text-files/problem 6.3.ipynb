{
 "cells": [
  {
   "cell_type": "code",
   "execution_count": 1,
   "metadata": {},
   "outputs": [
    {
     "name": "stdout",
     "output_type": "stream",
     "text": [
      "3\n"
     ]
    }
   ],
   "source": [
    "text = \"How much wood would a woodchuck chuck If a woodchuck could chuck wood? He would chuck, he would, as much as he could, And chuck as much as a woodchuck would If a Mr. Smith could chuck wood\\n\\r\\t.\"\n",
    "\n",
    "# read whole text\n",
    "# create a counter\n",
    "# get rid \\n\n",
    "# get rid of ?. special grammar\n",
    "# lowercase my sentence\n",
    "\"if a woodchuck could chuck wood\"\n",
    "# split the string by some character\n",
    "[\"if\", \"a\", \"woodchuck\"]\n",
    "#check if wood is in the list\n",
    "    # if yes\n",
    "       # counter = counter +1 <--> counter += 1 \n",
    "    # else\n",
    "        #pass\n",
    "#return\n",
    "\n",
    "text = text.replace('\\n','')\n",
    "text = text.replace('\\t','')\n",
    "text = text.replace('\\r','')\n",
    "text = text.replace('?','')\n",
    "text = text.replace('.','')\n",
    "\n",
    "\n",
    "text = text.lower()\n",
    "\n",
    "counter = 0\n",
    "\n",
    "for word in text.split(' '):\n",
    "    if word == 'wood':\n",
    "        counter += 1\n",
    "print(counter)        "
   ]
  },
  {
   "cell_type": "code",
   "execution_count": null,
   "metadata": {},
   "outputs": [],
   "source": []
  }
 ],
 "metadata": {
  "kernelspec": {
   "display_name": "Python 3",
   "language": "python",
   "name": "python3"
  },
  "language_info": {
   "codemirror_mode": {
    "name": "ipython",
    "version": 3
   },
   "file_extension": ".py",
   "mimetype": "text/x-python",
   "name": "python",
   "nbconvert_exporter": "python",
   "pygments_lexer": "ipython3",
   "version": "3.8.5"
  }
 },
 "nbformat": 4,
 "nbformat_minor": 4
}
