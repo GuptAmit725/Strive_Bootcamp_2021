{
 "cells": [
  {
   "cell_type": "code",
   "execution_count": 5,
   "metadata": {
    "slideshow": {
     "slide_type": "slide"
    }
   },
   "outputs": [],
   "source": [
    "# Import the needed libraries\n",
    "import numpy as np"
   ]
  },
  {
   "cell_type": "markdown",
   "metadata": {},
   "source": [
    "**72. How to swap two rows of an array?** "
   ]
  },
  {
   "cell_type": "code",
   "execution_count": 14,
   "metadata": {},
   "outputs": [],
   "source": [
    "a = np.random.randn(5,5)\n",
    "b = np.random.randn(5,5)\n"
   ]
  },
  {
   "cell_type": "code",
   "execution_count": 15,
   "metadata": {},
   "outputs": [
    {
     "data": {
      "text/plain": [
       "(array([[ 0.52666758, -0.55576609, -1.09339224, -2.04302355,  0.09207532],\n",
       "        [ 0.84093356,  0.18379979,  0.48318875,  0.13436618,  0.21075083],\n",
       "        [ 0.18071169, -1.21016481,  1.68183144,  0.10434885, -0.0491205 ],\n",
       "        [ 0.63353195,  0.08134652,  0.71164481, -1.71676776, -0.16844043],\n",
       "        [-1.29199401,  0.98079457,  0.4502905 ,  1.04532472, -1.38523518]]),\n",
       " array([[ 0.12148926, -0.80785751, -0.91863161,  0.54427086, -0.36812576],\n",
       "        [-0.41154746,  0.09736333, -0.09873602, -2.1780456 , -1.28539028],\n",
       "        [ 0.83998743,  0.53432587,  0.64312403, -0.11586632, -0.21646111],\n",
       "        [ 1.36863505,  0.72435637,  0.1897368 , -0.11288505,  0.60542487],\n",
       "        [-1.3162979 , -0.97173262,  2.01884676, -0.46317321,  0.32963389]]))"
      ]
     },
     "execution_count": 15,
     "metadata": {},
     "output_type": "execute_result"
    }
   ],
   "source": [
    "a,b"
   ]
  },
  {
   "cell_type": "code",
   "execution_count": 16,
   "metadata": {
    "scrolled": true
   },
   "outputs": [
    {
     "name": "stdout",
     "output_type": "stream",
     "text": [
      "(array([[ 0.12148926, -0.80785751, -0.91863161,  0.54427086, -0.36812576],\n",
      "       [ 0.84093356,  0.18379979,  0.48318875,  0.13436618,  0.21075083],\n",
      "       [ 0.18071169, -1.21016481,  1.68183144,  0.10434885, -0.0491205 ],\n",
      "       [ 0.63353195,  0.08134652,  0.71164481, -1.71676776, -0.16844043],\n",
      "       [-1.29199401,  0.98079457,  0.4502905 ,  1.04532472, -1.38523518]]), array([[ 0.12148926, -0.80785751, -0.91863161,  0.54427086, -0.36812576],\n",
      "       [-0.41154746,  0.09736333, -0.09873602, -2.1780456 , -1.28539028],\n",
      "       [ 0.83998743,  0.53432587,  0.64312403, -0.11586632, -0.21646111],\n",
      "       [ 1.36863505,  0.72435637,  0.1897368 , -0.11288505,  0.60542487],\n",
      "       [-1.3162979 , -0.97173262,  2.01884676, -0.46317321,  0.32963389]]))\n"
     ]
    }
   ],
   "source": [
    "def swap_row(row_num,array1,array2):\n",
    "    array1[row_num-1], array2[row_num-1] = array2[row_num-1], array1[row_num-1] #swapping the row by given row_num-1\n",
    "    return array1,array2\n",
    "print(swap_row(1,a,b))"
   ]
  },
  {
   "cell_type": "markdown",
   "metadata": {},
   "source": [
    "**75. How to compute averages using a sliding window over an array?**"
   ]
  },
  {
   "cell_type": "code",
   "execution_count": 53,
   "metadata": {},
   "outputs": [
    {
     "name": "stdout",
     "output_type": "stream",
     "text": [
      "The moving average of the given is:\n",
      " ================================== \n",
      " [[-0.01617963 -0.06347726  0.01430321]\n",
      " [ 0.36005007  0.2295617   0.42756092]\n",
      " [ 0.3464836  -0.05796016  0.09391607]\n",
      " [ 0.26093572  0.25877223 -0.17719722]]\n"
     ]
    }
   ],
   "source": [
    "#enter the window size in tuple form e.g: (2,3) but any dim should not be greater than any dim of original array\n",
    "def moving_avg_pool(window_size,array,strides):\n",
    "    if (window_size[0] > array.shape[0] or window_size[0] > array.shape[1]) or (window_size[1] > array.shape[0] or window_size[1] > array.shape[1]):\n",
    "        print('===> Window size can not be greater than the array itself!')\n",
    "        return np.nan\n",
    "    else:    \n",
    "        r = (array.shape[0]-window_size[0]+1)//strides\n",
    "        c = (array.shape[1]-window_size[1]+1)//strides\n",
    "        avg_array = np.zeros((r,c))\n",
    "        for i,k  in enumerate(range(0,r)):\n",
    "            for j,l in enumerate(range(0,c)):\n",
    "                #taking average of  window size array from the main array\n",
    "                avg_array[k,l] = avg_array[k,l-1] + np.sum(array[i:i+window_size[0], j:j+window_size[1]])/ (window_size[0] * window_size[1])\n",
    "        return avg_array\n",
    "print('The moving average of the given is:\\n','='*34,'\\n',moving_avg_pool((2,3),a,1))            "
   ]
  },
  {
   "cell_type": "code",
   "execution_count": null,
   "metadata": {},
   "outputs": [],
   "source": []
  }
 ],
 "metadata": {
  "kernelspec": {
   "display_name": "Python 3",
   "language": "python",
   "name": "python3"
  },
  "language_info": {
   "codemirror_mode": {
    "name": "ipython",
    "version": 3
   },
   "file_extension": ".py",
   "mimetype": "text/x-python",
   "name": "python",
   "nbconvert_exporter": "python",
   "pygments_lexer": "ipython3",
   "version": "3.8.5"
  }
 },
 "nbformat": 4,
 "nbformat_minor": 5
}
