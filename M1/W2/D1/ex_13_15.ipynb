{
 "cells": [
  {
   "cell_type": "code",
   "execution_count": null,
   "metadata": {},
   "outputs": [],
   "source": [
    "# Import the needed libraries"
   ]
  },
  {
   "cell_type": "markdown",
   "metadata": {},
   "source": [
    "**13. Create a 10x10 array with random values and find the minimum and maximum values**"
   ]
  },
  {
   "cell_type": "code",
   "execution_count": 9,
   "metadata": {},
   "outputs": [
    {
     "name": "stdout",
     "output_type": "stream",
     "text": [
      "[[19 29 89  9 99 79 51 70  9  9]\n",
      " [34 51 19 49 73 63 86 37 66 88]\n",
      " [55 96 54  2 50 50 64 61 13  4]\n",
      " [99  9 86 29 21 86  8  9 13 55]\n",
      " [84 26 95 98 60 63 27 10 38 82]\n",
      " [62 67 21 12 68 35 29 37  0 94]\n",
      " [24 68  5 10 41 24  5 60 85 23]\n",
      " [ 4 11 75  2 23 40 38 62 67 35]\n",
      " [54 93 82 52 48 84 88 13 73 50]\n",
      " [41 73 45 19 61 24 12 64 73 73]]\n",
      "The shape of the matrix: (10, 10)\n",
      "The maximum  value:  99\n",
      "The minimum  value:  0\n"
     ]
    }
   ],
   "source": [
    "import numpy  as np\n",
    "a = np.arange(100)\n",
    "a = np.random.choice(a,(10,10))\n",
    "print(a)\n",
    "print(f'The shape of the matrix: {a.shape}')\n",
    "print('The maximum  value: ',a.max())\n",
    "print('The minimum  value: ',a.min())"
   ]
  },
  {
   "cell_type": "markdown",
   "metadata": {},
   "source": [
    "**15. Create a 2d array with 1 on the border and 0 inside**"
   ]
  },
  {
   "cell_type": "code",
   "execution_count": 21,
   "metadata": {},
   "outputs": [
    {
     "name": "stdout",
     "output_type": "stream",
     "text": [
      "[[1. 1. 1. 1. 1. 1. 1. 1. 1. 1.]\n",
      " [1. 0. 0. 0. 0. 0. 0. 0. 0. 1.]\n",
      " [1. 0. 0. 0. 0. 0. 0. 0. 0. 1.]\n",
      " [1. 0. 0. 0. 0. 0. 0. 0. 0. 1.]\n",
      " [1. 0. 0. 0. 0. 0. 0. 0. 0. 1.]\n",
      " [1. 0. 0. 0. 0. 0. 0. 0. 0. 1.]\n",
      " [1. 0. 0. 0. 0. 0. 0. 0. 0. 1.]\n",
      " [1. 0. 0. 0. 0. 0. 0. 0. 0. 1.]\n",
      " [1. 0. 0. 0. 0. 0. 0. 0. 0. 1.]\n",
      " [1. 1. 1. 1. 1. 1. 1. 1. 1. 1.]]\n"
     ]
    },
    {
     "data": {
      "image/png": "[encoded data removed]",
      "text/plain": [
       "<Figure size 432x288 with 1 Axes>"
      ]
     },
     "metadata": {
      "needs_background": "light"
     },
     "output_type": "display_data"
    }
   ],
   "source": [
    "def masking(size): \n",
    "    import matplotlib.pyplot as plt\n",
    "    a = np.ones((size,size))\n",
    "    b = np.zeros((size-2,size-2))\n",
    "\n",
    "    #Masking a with b\n",
    "\n",
    "    a[1:size-1, 1:size-1] = b\n",
    "\n",
    "    plt.imshow(a)\n",
    "    return a\n",
    "print(masking(10))"
   ]
  }
 ],
 "metadata": {
  "kernelspec": {
   "display_name": "Python 3",
   "language": "python",
   "name": "python3"
  },
  "language_info": {
   "codemirror_mode": {
    "name": "ipython",
    "version": 3
   },
   "file_extension": ".py",
   "mimetype": "text/x-python",
   "name": "python",
   "nbconvert_exporter": "python",
   "pygments_lexer": "ipython3",
   "version": "3.8.5"
  }
 },
 "nbformat": 4,
 "nbformat_minor": 5
}
