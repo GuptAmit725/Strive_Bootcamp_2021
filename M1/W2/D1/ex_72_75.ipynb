{
 "cells": [
  {
   "cell_type": "code",
   "execution_count": 32,
   "metadata": {
    "slideshow": {
     "slide_type": "slide"
    }
   },
   "outputs": [],
   "source": [
    "# Import the needed libraries\n",
    "import numpy as np"
   ]
  },
  {
   "cell_type": "markdown",
   "metadata": {},
   "source": [
    "**72. How to swap two rows of an array?** "
   ]
  },
  {
   "cell_type": "code",
   "execution_count": 49,
   "metadata": {},
   "outputs": [],
   "source": [
    "b = np.random.randn(5,5)"
   ]
  },
  {
   "cell_type": "code",
   "execution_count": 51,
   "metadata": {
    "scrolled": false
   },
   "outputs": [
    {
     "data": {
      "text/plain": [
       "array([[ 1.47269581, -0.26229075, -0.26971812,  1.97957923,  0.27838674],\n",
       "       [ 0.50465718,  0.00460243, -0.92905394,  1.39172488,  0.02235737],\n",
       "       [-0.62587264,  0.85808359, -0.49007902, -0.54793763, -0.8935685 ],\n",
       "       [ 0.81066735,  0.58440006, -0.67271049,  1.49264845, -1.32399498],\n",
       "       [-0.37282699, -0.18941158,  1.55241594, -0.18478521, -0.98208692]])"
      ]
     },
     "execution_count": 51,
     "metadata": {},
     "output_type": "execute_result"
    }
   ],
   "source": [
    "b"
   ]
  },
  {
   "cell_type": "code",
   "execution_count": 52,
   "metadata": {
    "scrolled": false
   },
   "outputs": [
    {
     "name": "stdout",
     "output_type": "stream",
     "text": [
      "[[ 0.50465718  0.00460243 -0.92905394  1.39172488  0.02235737]\n",
      " [ 1.47269581 -0.26229075 -0.26971812  1.97957923  0.27838674]\n",
      " [-0.62587264  0.85808359 -0.49007902 -0.54793763 -0.8935685 ]\n",
      " [ 0.81066735  0.58440006 -0.67271049  1.49264845 -1.32399498]\n",
      " [-0.37282699 -0.18941158  1.55241594 -0.18478521 -0.98208692]]\n"
     ]
    }
   ],
   "source": [
    "def swap_row(row_num1,row_num2,array):\n",
    "    #source: https://stackoverflow.com/questions/54069863/swap-two-rows-in-a-numpy-array-in-python/54069951\n",
    "    array[[row_num1-1, row_num2-1]] = array[[row_num2-1, row_num1-1]] #swapping the row by given row_num-1\n",
    "    return array\n",
    "print(swap_row(1,2,b))"
   ]
  },
  {
   "cell_type": "markdown",
   "metadata": {},
   "source": [
    "**75. How to compute averages using a sliding window over an array?**"
   ]
  },
  {
   "cell_type": "code",
   "execution_count": 31,
   "metadata": {},
   "outputs": [
    {
     "name": "stdout",
     "output_type": "stream",
     "text": [
      "The moving average of the given is:\n",
      " ================================== \n",
      " [[-0.53242828 -0.6148043  -1.02471243 -0.4427385  -0.67368252 -0.7588214\n",
      "  -1.75934372 -1.65264758 -1.59806644 -1.46678455]]\n"
     ]
    }
   ],
   "source": [
    "#enter the window size in tuple form e.g: (2,3) but any dim should not be greater than any dim of original array\n",
    "d = np.random.randn(1,10)\n",
    "def moving_avg_pool(window_size,array,strides):\n",
    "    if (window_size[0] > array.shape[0] or window_size[0] > array.shape[1]) or (window_size[1] > array.shape[0] or window_size[1] > array.shape[1]):\n",
    "        print('===> Window size can not be greater than the array itself!')\n",
    "        return np.nan\n",
    "    else:    \n",
    "        r = (array.shape[0]-window_size[0]+1)//strides\n",
    "        c = (array.shape[1]-window_size[1]+1)//strides\n",
    "        avg_array = np.zeros((r,c))\n",
    "        for k,i  in enumerate(range(0,r)):\n",
    "            for l,j in enumerate(range(0,c)):\n",
    "                #taking average of  window size array from the main array\n",
    "                if l>0:\n",
    "                    avg_array[k,l] = avg_array[k,l-1] + np.sum(array[i:i+window_size[0], j:j+window_size[1]])/ ((window_size[0] * window_size[1])+1)\n",
    "                else:\n",
    "                    avg_array[k,l] = np.sum(array[i:i+window_size[0], j:j+window_size[1]])/ (window_size[0] * window_size[1])\n",
    "        return avg_array\n",
    "print('The moving average of the given is:\\n','='*34,'\\n',moving_avg_pool((1,1),d,1))            "
   ]
  },
  {
   "cell_type": "code",
   "execution_count": null,
   "metadata": {},
   "outputs": [],
   "source": []
  }
 ],
 "metadata": {
  "kernelspec": {
   "display_name": "Python 3",
   "language": "python",
   "name": "python3"
  },
  "language_info": {
   "codemirror_mode": {
    "name": "ipython",
    "version": 3
   },
   "file_extension": ".py",
   "mimetype": "text/x-python",
   "name": "python",
   "nbconvert_exporter": "python",
   "pygments_lexer": "ipython3",
   "version": "3.8.5"
  }
 },
 "nbformat": 4,
 "nbformat_minor": 5
}
