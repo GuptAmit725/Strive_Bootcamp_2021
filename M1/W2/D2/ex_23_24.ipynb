{
 "cells": [
  {
   "cell_type": "code",
   "execution_count": 3,
   "metadata": {},
   "outputs": [],
   "source": [
    "# import the needed libraries and datasets\n",
    "import pandas as pd\n",
    "import numpy as np"
   ]
  },
  {
   "cell_type": "markdown",
   "metadata": {},
   "source": [
    "**23.** Given a DataFrame of numeric values, say\n",
    "```python\n",
    "df = pd.DataFrame(np.random.random(size=(5, 3))) # a 5x3 frame of float values\n",
    "```\n",
    "\n",
    "how do you subtract the row mean from each element in the row?"
   ]
  },
  {
   "cell_type": "code",
   "execution_count": 4,
   "metadata": {},
   "outputs": [
    {
     "data": {
      "text/html": [
       "<div>\n",
       "<style scoped>\n",
       "    .dataframe tbody tr th:only-of-type {\n",
       "        vertical-align: middle;\n",
       "    }\n",
       "\n",
       "    .dataframe tbody tr th {\n",
       "        vertical-align: top;\n",
       "    }\n",
       "\n",
       "    .dataframe thead th {\n",
       "        text-align: right;\n",
       "    }\n",
       "</style>\n",
       "<table border=\"1\" class=\"dataframe\">\n",
       "  <thead>\n",
       "    <tr style=\"text-align: right;\">\n",
       "      <th></th>\n",
       "      <th>0</th>\n",
       "      <th>1</th>\n",
       "      <th>2</th>\n",
       "    </tr>\n",
       "  </thead>\n",
       "  <tbody>\n",
       "    <tr>\n",
       "      <th>0</th>\n",
       "      <td>0.458929</td>\n",
       "      <td>0.735426</td>\n",
       "      <td>0.256098</td>\n",
       "    </tr>\n",
       "    <tr>\n",
       "      <th>1</th>\n",
       "      <td>0.547601</td>\n",
       "      <td>0.200625</td>\n",
       "      <td>0.489236</td>\n",
       "    </tr>\n",
       "    <tr>\n",
       "      <th>2</th>\n",
       "      <td>0.598665</td>\n",
       "      <td>0.154796</td>\n",
       "      <td>0.233712</td>\n",
       "    </tr>\n",
       "    <tr>\n",
       "      <th>3</th>\n",
       "      <td>0.558778</td>\n",
       "      <td>0.495600</td>\n",
       "      <td>0.047882</td>\n",
       "    </tr>\n",
       "    <tr>\n",
       "      <th>4</th>\n",
       "      <td>0.686957</td>\n",
       "      <td>0.600145</td>\n",
       "      <td>0.662162</td>\n",
       "    </tr>\n",
       "  </tbody>\n",
       "</table>\n",
       "</div>"
      ],
      "text/plain": [
       "          0         1         2\n",
       "0  0.458929  0.735426  0.256098\n",
       "1  0.547601  0.200625  0.489236\n",
       "2  0.598665  0.154796  0.233712\n",
       "3  0.558778  0.495600  0.047882\n",
       "4  0.686957  0.600145  0.662162"
      ]
     },
     "execution_count": 4,
     "metadata": {},
     "output_type": "execute_result"
    }
   ],
   "source": [
    "df = pd.DataFrame(np.random.random(size=(5, 3))) # a 5x3 frame of float values\n",
    "df"
   ]
  },
  {
   "cell_type": "code",
   "execution_count": 5,
   "metadata": {},
   "outputs": [
    {
     "data": {
      "text/html": [
       "<div>\n",
       "<style scoped>\n",
       "    .dataframe tbody tr th:only-of-type {\n",
       "        vertical-align: middle;\n",
       "    }\n",
       "\n",
       "    .dataframe tbody tr th {\n",
       "        vertical-align: top;\n",
       "    }\n",
       "\n",
       "    .dataframe thead th {\n",
       "        text-align: right;\n",
       "    }\n",
       "</style>\n",
       "<table border=\"1\" class=\"dataframe\">\n",
       "  <thead>\n",
       "    <tr style=\"text-align: right;\">\n",
       "      <th></th>\n",
       "      <th>0</th>\n",
       "      <th>1</th>\n",
       "      <th>2</th>\n",
       "    </tr>\n",
       "  </thead>\n",
       "  <tbody>\n",
       "    <tr>\n",
       "      <th>0</th>\n",
       "      <td>-0.111257</td>\n",
       "      <td>0.298108</td>\n",
       "      <td>-0.081720</td>\n",
       "    </tr>\n",
       "    <tr>\n",
       "      <th>1</th>\n",
       "      <td>-0.022585</td>\n",
       "      <td>-0.236693</td>\n",
       "      <td>0.151418</td>\n",
       "    </tr>\n",
       "    <tr>\n",
       "      <th>2</th>\n",
       "      <td>0.028479</td>\n",
       "      <td>-0.282523</td>\n",
       "      <td>-0.104106</td>\n",
       "    </tr>\n",
       "    <tr>\n",
       "      <th>3</th>\n",
       "      <td>-0.011408</td>\n",
       "      <td>0.058282</td>\n",
       "      <td>-0.289936</td>\n",
       "    </tr>\n",
       "    <tr>\n",
       "      <th>4</th>\n",
       "      <td>0.116771</td>\n",
       "      <td>0.162827</td>\n",
       "      <td>0.324344</td>\n",
       "    </tr>\n",
       "  </tbody>\n",
       "</table>\n",
       "</div>"
      ],
      "text/plain": [
       "          0         1         2\n",
       "0 -0.111257  0.298108 -0.081720\n",
       "1 -0.022585 -0.236693  0.151418\n",
       "2  0.028479 -0.282523 -0.104106\n",
       "3 -0.011408  0.058282 -0.289936\n",
       "4  0.116771  0.162827  0.324344"
      ]
     },
     "execution_count": 5,
     "metadata": {},
     "output_type": "execute_result"
    }
   ],
   "source": [
    "df = df - df.mean()\n",
    "df"
   ]
  },
  {
   "cell_type": "markdown",
   "metadata": {},
   "source": [
    "**24.** Suppose you have DataFrame with 10 columns of real numbers, for example:\n",
    "\n",
    "```python\n",
    "df = pd.DataFrame(np.random.random(size=(5, 10)), columns=list('abcdefghij'))\n",
    "```\n",
    "Which column of numbers has the smallest sum? (Find that column's label.)"
   ]
  },
  {
   "cell_type": "code",
   "execution_count": 6,
   "metadata": {},
   "outputs": [
    {
     "data": {
      "text/html": [
       "<div>\n",
       "<style scoped>\n",
       "    .dataframe tbody tr th:only-of-type {\n",
       "        vertical-align: middle;\n",
       "    }\n",
       "\n",
       "    .dataframe tbody tr th {\n",
       "        vertical-align: top;\n",
       "    }\n",
       "\n",
       "    .dataframe thead th {\n",
       "        text-align: right;\n",
       "    }\n",
       "</style>\n",
       "<table border=\"1\" class=\"dataframe\">\n",
       "  <thead>\n",
       "    <tr style=\"text-align: right;\">\n",
       "      <th></th>\n",
       "      <th>a</th>\n",
       "      <th>b</th>\n",
       "      <th>c</th>\n",
       "      <th>d</th>\n",
       "      <th>e</th>\n",
       "      <th>f</th>\n",
       "      <th>g</th>\n",
       "      <th>h</th>\n",
       "      <th>i</th>\n",
       "      <th>j</th>\n",
       "    </tr>\n",
       "  </thead>\n",
       "  <tbody>\n",
       "    <tr>\n",
       "      <th>0</th>\n",
       "      <td>0.675994</td>\n",
       "      <td>0.120921</td>\n",
       "      <td>0.241577</td>\n",
       "      <td>0.046442</td>\n",
       "      <td>0.535469</td>\n",
       "      <td>0.512974</td>\n",
       "      <td>0.525393</td>\n",
       "      <td>0.161416</td>\n",
       "      <td>0.294564</td>\n",
       "      <td>0.948012</td>\n",
       "    </tr>\n",
       "    <tr>\n",
       "      <th>1</th>\n",
       "      <td>0.282912</td>\n",
       "      <td>0.166836</td>\n",
       "      <td>0.354710</td>\n",
       "      <td>0.920825</td>\n",
       "      <td>0.461335</td>\n",
       "      <td>0.917509</td>\n",
       "      <td>0.740212</td>\n",
       "      <td>0.011664</td>\n",
       "      <td>0.482886</td>\n",
       "      <td>0.943914</td>\n",
       "    </tr>\n",
       "    <tr>\n",
       "      <th>2</th>\n",
       "      <td>0.406914</td>\n",
       "      <td>0.008350</td>\n",
       "      <td>0.814562</td>\n",
       "      <td>0.049954</td>\n",
       "      <td>0.058888</td>\n",
       "      <td>0.476663</td>\n",
       "      <td>0.201446</td>\n",
       "      <td>0.440912</td>\n",
       "      <td>0.208394</td>\n",
       "      <td>0.184676</td>\n",
       "    </tr>\n",
       "    <tr>\n",
       "      <th>3</th>\n",
       "      <td>0.012218</td>\n",
       "      <td>0.787852</td>\n",
       "      <td>0.043204</td>\n",
       "      <td>0.975825</td>\n",
       "      <td>0.745595</td>\n",
       "      <td>0.192757</td>\n",
       "      <td>0.790162</td>\n",
       "      <td>0.932091</td>\n",
       "      <td>0.644294</td>\n",
       "      <td>0.328282</td>\n",
       "    </tr>\n",
       "    <tr>\n",
       "      <th>4</th>\n",
       "      <td>0.439922</td>\n",
       "      <td>0.263040</td>\n",
       "      <td>0.977017</td>\n",
       "      <td>0.531138</td>\n",
       "      <td>0.106388</td>\n",
       "      <td>0.497418</td>\n",
       "      <td>0.189174</td>\n",
       "      <td>0.427149</td>\n",
       "      <td>0.182889</td>\n",
       "      <td>0.143675</td>\n",
       "    </tr>\n",
       "  </tbody>\n",
       "</table>\n",
       "</div>"
      ],
      "text/plain": [
       "          a         b         c         d         e         f         g  \\\n",
       "0  0.675994  0.120921  0.241577  0.046442  0.535469  0.512974  0.525393   \n",
       "1  0.282912  0.166836  0.354710  0.920825  0.461335  0.917509  0.740212   \n",
       "2  0.406914  0.008350  0.814562  0.049954  0.058888  0.476663  0.201446   \n",
       "3  0.012218  0.787852  0.043204  0.975825  0.745595  0.192757  0.790162   \n",
       "4  0.439922  0.263040  0.977017  0.531138  0.106388  0.497418  0.189174   \n",
       "\n",
       "          h         i         j  \n",
       "0  0.161416  0.294564  0.948012  \n",
       "1  0.011664  0.482886  0.943914  \n",
       "2  0.440912  0.208394  0.184676  \n",
       "3  0.932091  0.644294  0.328282  \n",
       "4  0.427149  0.182889  0.143675  "
      ]
     },
     "execution_count": 6,
     "metadata": {},
     "output_type": "execute_result"
    }
   ],
   "source": [
    "df = pd.DataFrame(np.random.random(size=(5, 10)), columns=list('abcdefghij'))\n",
    "df\n"
   ]
  },
  {
   "cell_type": "code",
   "execution_count": 9,
   "metadata": {},
   "outputs": [
    {
     "name": "stdout",
     "output_type": "stream",
     "text": [
      "Column with minimum sum: b\n"
     ]
    }
   ],
   "source": [
    "sums = [sum(df[i]) for i in df.columns]\n",
    "col_name = list('abcdefghij')[sums.index(min(sums))]\n",
    "print(f'Column with minimum sum: {col_name}')"
   ]
  },
  {
   "cell_type": "code",
   "execution_count": 10,
   "metadata": {},
   "outputs": [
    {
     "data": {
      "text/plain": [
       "[1.8179601352623096,\n",
       " 1.3469987752209764,\n",
       " 2.4310701048622936,\n",
       " 2.5241826247647556,\n",
       " 1.907675341150049,\n",
       " 2.597319886062218,\n",
       " 2.4463869763251336,\n",
       " 1.9732315763624615,\n",
       " 1.8130276465194295,\n",
       " 2.5485587572333555]"
      ]
     },
     "execution_count": 10,
     "metadata": {},
     "output_type": "execute_result"
    }
   ],
   "source": [
    "sums"
   ]
  },
  {
   "cell_type": "code",
   "execution_count": null,
   "metadata": {},
   "outputs": [],
   "source": []
  }
 ],
 "metadata": {
  "kernelspec": {
   "display_name": "Python 3",
   "language": "python",
   "name": "python3"
  },
  "language_info": {
   "codemirror_mode": {
    "name": "ipython",
    "version": 3
   },
   "file_extension": ".py",
   "mimetype": "text/x-python",
   "name": "python",
   "nbconvert_exporter": "python",
   "pygments_lexer": "ipython3",
   "version": "3.8.5"
  }
 },
 "nbformat": 4,
 "nbformat_minor": 5
}
