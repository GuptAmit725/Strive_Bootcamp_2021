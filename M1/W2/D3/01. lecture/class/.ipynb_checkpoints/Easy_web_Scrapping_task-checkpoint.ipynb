{
 "cells": [
  {
   "cell_type": "code",
   "execution_count": 59,
   "metadata": {},
   "outputs": [],
   "source": [
    "import requests\n",
    "import json\n",
    "from bs4 import BeautifulSoup as bs\n",
    "import datetime\n",
    "import pandas as pd"
   ]
  },
  {
   "cell_type": "code",
   "execution_count": 60,
   "metadata": {},
   "outputs": [
    {
     "name": "stdout",
     "output_type": "stream",
     "text": [
      "<div class=\"tombstone-container\">\n",
      " <p class=\"period-name\">\n",
      "  Today\n",
      "  <br/>\n",
      "  <br/>\n",
      " </p>\n",
      " <p>\n",
      "  <img alt=\"Today: Mostly sunny, with a high near 66. Light and variable wind becoming west 8 to 13 mph in the morning. \" class=\"forecast-icon\" src=\"newimages/medium/sct.png\" title=\"Today: Mostly sunny, with a high near 66. Light and variable wind becoming west 8 to 13 mph in the morning. \"/>\n",
      " </p>\n",
      " <p class=\"short-desc\">\n",
      "  Mostly Sunny\n",
      " </p>\n",
      " <p class=\"temp temp-high\">\n",
      "  High: 66 °F\n",
      " </p>\n",
      "</div>\n"
     ]
    }
   ],
   "source": [
    "#lat=37.7772&lon=-122.4168\n",
    "#https://forecast.weather.gov/MapClick.php?lat=37.7771&lon=-122.4196#.YFswdq9KhPY\n",
    "def seven_day_weather_report(lat,lon): \n",
    "    page_request = requests.get(\"http://forecast.weather.gov/MapClick.php?lat=\" + str(lat) +\"&lon=\"+ str(lon)+\"#.YFswdq9KhPY\")\n",
    "    parsed_into_html = bs(page.content, 'html.parser')\n",
    "    ten_day = parsed_into_html.find(id='seven-day-forecast')\n",
    "    forecast_items = ten_day.find_all(class_=\"tombstone-container\")\n",
    "    print(forecast_items[0].prettify())\n",
    "    return forecast_items\n",
    "report = seven_day_weather_report(37.7772,-122.4168)\n",
    "    \n",
    "   "
   ]
  },
  {
   "cell_type": "code",
   "execution_count": 61,
   "metadata": {},
   "outputs": [
    {
     "data": {
      "text/plain": [
       "{'day': ['Wednesday', 'Thursday', 'Friday', 'Saturday'],\n",
       " 'date': ['2021-03-24', '2021-03-25', '2021-03-26', '2021-03-27'],\n",
       " 'short_desc': ['Mostly Sunny and Partly Cloudy',\n",
       "  'Sunny and Clear',\n",
       "  'Sunny and Clear',\n",
       "  'Sunny and Clear'],\n",
       " 'low_temp_degrees': [8.89, 7.78, 8.33, 9.44],\n",
       " 'high_temp_degrees': [18.89, 16.11, 20.56, 23.33]}"
      ]
     },
     "execution_count": 61,
     "metadata": {},
     "output_type": "execute_result"
    }
   ],
   "source": [
    "def into_celcius(temp):\n",
    "    return round((int(temp) - 32) * 5/9, 2)\n",
    "\n",
    "days = {0:'Monday', 1:'Tuesday',2:'Wednesday',3:'Thursday',4:'Friday',5:'Saturday',6:'Sunday'}\n",
    "data = {'day':[], 'date':[],'short_desc':[],'low_temp_degrees':[],'high_temp_degrees':[],}\n",
    "c = 0\n",
    "for i in range(len(report)-1):\n",
    "    if i%2 == 0:\n",
    "        date = datetime.date.today() + datetime.timedelta(days=c)\n",
    "        data['date'].append(date.strftime('%Y-%m-%d'))\n",
    "        day = days[date.weekday()]\n",
    "        data['day'].append(day)\n",
    "        high_temp = into_celcius(report[i].find(class_=\"temp temp-high\").get_text().split(\" \")[1])\n",
    "        data['high_temp_degrees'].append(high_temp)\n",
    "        low_temp = into_celcius(report[i+1].find(class_=\"temp temp-low\").get_text().split(\" \")[1]) \n",
    "        data['low_temp_degrees'].append(low_temp)\n",
    "        short_desc = report[i].find(class_='short-desc').get_text()  + \" and \" +report[i+1].find(class_='short-desc').get_text()            \n",
    "        data['short_desc'].append(short_desc)\n",
    "        c += 1\n",
    "data    "
   ]
  },
  {
   "cell_type": "code",
   "execution_count": 62,
   "metadata": {},
   "outputs": [
    {
     "data": {
      "text/html": [
       "<div>\n",
       "<style scoped>\n",
       "    .dataframe tbody tr th:only-of-type {\n",
       "        vertical-align: middle;\n",
       "    }\n",
       "\n",
       "    .dataframe tbody tr th {\n",
       "        vertical-align: top;\n",
       "    }\n",
       "\n",
       "    .dataframe thead th {\n",
       "        text-align: right;\n",
       "    }\n",
       "</style>\n",
       "<table border=\"1\" class=\"dataframe\">\n",
       "  <thead>\n",
       "    <tr style=\"text-align: right;\">\n",
       "      <th></th>\n",
       "      <th>day</th>\n",
       "      <th>date</th>\n",
       "      <th>short_desc</th>\n",
       "      <th>low_temp_degrees</th>\n",
       "      <th>high_temp_degrees</th>\n",
       "    </tr>\n",
       "  </thead>\n",
       "  <tbody>\n",
       "    <tr>\n",
       "      <th>0</th>\n",
       "      <td>Wednesday</td>\n",
       "      <td>2021-03-24</td>\n",
       "      <td>Mostly Sunny and Partly Cloudy</td>\n",
       "      <td>8.89</td>\n",
       "      <td>18.89</td>\n",
       "    </tr>\n",
       "    <tr>\n",
       "      <th>1</th>\n",
       "      <td>Thursday</td>\n",
       "      <td>2021-03-25</td>\n",
       "      <td>Sunny and Clear</td>\n",
       "      <td>7.78</td>\n",
       "      <td>16.11</td>\n",
       "    </tr>\n",
       "    <tr>\n",
       "      <th>2</th>\n",
       "      <td>Friday</td>\n",
       "      <td>2021-03-26</td>\n",
       "      <td>Sunny and Clear</td>\n",
       "      <td>8.33</td>\n",
       "      <td>20.56</td>\n",
       "    </tr>\n",
       "    <tr>\n",
       "      <th>3</th>\n",
       "      <td>Saturday</td>\n",
       "      <td>2021-03-27</td>\n",
       "      <td>Sunny and Clear</td>\n",
       "      <td>9.44</td>\n",
       "      <td>23.33</td>\n",
       "    </tr>\n",
       "  </tbody>\n",
       "</table>\n",
       "</div>"
      ],
      "text/plain": [
       "         day        date                      short_desc  low_temp_degrees  \\\n",
       "0  Wednesday  2021-03-24  Mostly Sunny and Partly Cloudy              8.89   \n",
       "1   Thursday  2021-03-25                 Sunny and Clear              7.78   \n",
       "2     Friday  2021-03-26                 Sunny and Clear              8.33   \n",
       "3   Saturday  2021-03-27                 Sunny and Clear              9.44   \n",
       "\n",
       "   high_temp_degrees  \n",
       "0              18.89  \n",
       "1              16.11  \n",
       "2              20.56  \n",
       "3              23.33  "
      ]
     },
     "execution_count": 62,
     "metadata": {},
     "output_type": "execute_result"
    }
   ],
   "source": [
    "data = pd.DataFrame(data)\n",
    "data"
   ]
  },
  {
   "cell_type": "code",
   "execution_count": null,
   "metadata": {},
   "outputs": [],
   "source": []
  }
 ],
 "metadata": {
  "kernelspec": {
   "display_name": "Python 3",
   "language": "python",
   "name": "python3"
  },
  "language_info": {
   "codemirror_mode": {
    "name": "ipython",
    "version": 3
   },
   "file_extension": ".py",
   "mimetype": "text/x-python",
   "name": "python",
   "nbconvert_exporter": "python",
   "pygments_lexer": "ipython3",
   "version": "3.8.5"
  }
 },
 "nbformat": 4,
 "nbformat_minor": 4
}
