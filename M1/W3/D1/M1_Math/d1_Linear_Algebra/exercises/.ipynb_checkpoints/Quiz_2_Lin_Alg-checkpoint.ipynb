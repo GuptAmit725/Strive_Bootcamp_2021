{
 "cells": [
  {
   "cell_type": "markdown",
   "metadata": {},
   "source": [
    "## Linear Algebra Quiz #2\n",
    "\n",
    "![title](./img/2_1.jpeg)\n",
    "\n",
    "We strongly suggest working with numpy :)"
   ]
  },
  {
   "cell_type": "code",
   "execution_count": 1,
   "metadata": {},
   "outputs": [],
   "source": [
    "#Do your imports here\n",
    "import numpy as np\n",
    "import math as m"
   ]
  },
  {
   "cell_type": "markdown",
   "metadata": {},
   "source": [
    "![title](./img/2_2.png)\n",
    "- Which vectors below define a plane spanned by a linear combination?"
   ]
  },
  {
   "cell_type": "code",
   "execution_count": 7,
   "metadata": {},
   "outputs": [],
   "source": [
    "\n",
    "def plane(a,b,c):\n",
    "    #returns false if the vectors do define a plane and returns which are those vectors if true\n",
    "\n",
    "# Harder exercise\n",
    "    \n",
    "    matrix = np.stack((a,b,c))\n",
    "    \n",
    "    lambdas, V = np.linalg.eig(matrix.T)\n",
    "    \n",
    "    e = 0.000000001\n",
    "    \n",
    "    plane_test = abs(lambdas) > e \n",
    "    if plane_test.sum() >= 2:\n",
    "        \n",
    "        print('Vectors form a plane!')\n",
    "        \n",
    "        vectors = matrix[plane_test]\n",
    "        return vectors\n",
    "    else:\n",
    "        print('Vectors are all linearly dependent. No plane exists.')\n",
    "\n",
    "# Harder exercise\n",
    "\n",
    "def complete_plane(*args):\n",
    "#returns the first set of vectors to complete a plane, false otherwise\n",
    "    \n",
    "    np_arrays = []\n",
    "    \n",
    "    for arg in args:\n",
    "        np_arrays.append(arg)\n",
    "    \n",
    "    matrix = np.stack(np_arrays)\n",
    "    \n",
    "    rows = matrix.shape[0]\n",
    "    columns = matrix.shape[1]\n",
    "    \n",
    "    if rows == columns:\n",
    "        \n",
    "        lambdas, V = np.linalg.eig(matrix.T)\n",
    "    \n",
    "        e = 0.000000001\n",
    "        plane_test = abs(lambdas) > e\n",
    " \n",
    "        if plane_test.sum() >= 2:\n",
    "            print('True')\n",
    "            \n",
    "            index = np.argwhere(plane_test == True)\n",
    "            \n",
    "            vectors = matrix[index]\n",
    "        else:\n",
    "            print('False')\n",
    "        \n",
    "        \n",
    "        \n",
    "        \n",
    "    elif rows != columns:\n",
    "        \n",
    "        U, eigvals , d = np.linalg.svd(matrix.T)\n",
    "    \n",
    "        e = 0.000000001\n",
    "        plane_test = abs(eigvals) > e\n",
    " \n",
    "        if plane_test.sum() >= 2:\n",
    "            print('True')\n",
    "            \n",
    "            index = np.argwhere(plane_test == True)\n",
    "\n",
    "            vectors = matrix[index][:2]\n",
    "            \n",
    "            return vectors\n",
    "            \n",
    "        else:\n",
    "            print('False')\n",
    "    \n",
    "    \n",
    "    \n",
    "\n",
    "\n"
   ]
  },
  {
   "cell_type": "code",
   "execution_count": 5,
   "metadata": {},
   "outputs": [
    {
     "name": "stdout",
     "output_type": "stream",
     "text": [
      "Vectors form a plane!\n"
     ]
    },
    {
     "data": {
      "text/plain": [
       "array([[1, 2, 3],\n",
       "       [2, 2, 2]])"
      ]
     },
     "execution_count": 5,
     "metadata": {},
     "output_type": "execute_result"
    }
   ],
   "source": [
    "a = np.array([1,2,3])\n",
    "b = np.array([2,2,2])\n",
    "c = np.array([8,8,8])\n",
    "\n",
    "plane(a,b,c)"
   ]
  },
  {
   "cell_type": "code",
   "execution_count": 8,
   "metadata": {},
   "outputs": [
    {
     "name": "stdout",
     "output_type": "stream",
     "text": [
      "True\n"
     ]
    },
    {
     "data": {
      "text/plain": [
       "array([[[1, 2, 3]],\n",
       "\n",
       "       [[3, 2, 1]]])"
      ]
     },
     "execution_count": 8,
     "metadata": {},
     "output_type": "execute_result"
    }
   ],
   "source": [
    "a = np.array([1,2,3])\n",
    "b = np.array([2,4,6])\n",
    "c = np.array([3,2,1])\n",
    "d = np.array([6,4,2])\n",
    "e = np.array([1,5,8])\n",
    "\n",
    "complete_plane(a,c,d,e)"
   ]
  },
  {
   "cell_type": "markdown",
   "metadata": {},
   "source": [
    "![title](./img/2_3.png)\n",
    "- What is the solution for a and b?"
   ]
  },
  {
   "cell_type": "code",
   "execution_count": 24,
   "metadata": {},
   "outputs": [
    {
     "name": "stdout",
     "output_type": "stream",
     "text": [
      "The matrix in not linearly independent, so solution is not possible.\n"
     ]
    }
   ],
   "source": [
    "# do you need a function for this? What is the most efficient way to solve it?\n",
    "a = np.array([2,10])\n",
    "b = np.array([3,15])\n",
    "c = np.array([-1,-5])\n",
    "matrix = np.array([a,b]).T\n",
    "if a[0]/a[1] == b[0]/b[1] == c[0]/c[1]:\n",
    "    print('The matrix in not linearly independent, so solution is not possible.')\n",
    "else:\n",
    "    matrix[0,0],matrix[1,1] = matrix[1,1], matrix[0,0]\n",
    "    matrix[1,0] = -matrix[1,0]\n",
    "    matrix[0,1] = -matrix[0,1]\n",
    "    matrix = 1 / (np.linalg.norm(matrix)) * matrix\n",
    "    solution = np.dot(matrix,c)\n",
    "    print(solution)"
   ]
  },
  {
   "cell_type": "markdown",
   "metadata": {},
   "source": [
    "![title](./img/2_4.png)\n",
    "- What is the solution for a and b?"
   ]
  },
  {
   "cell_type": "code",
   "execution_count": 26,
   "metadata": {},
   "outputs": [
    {
     "name": "stdout",
     "output_type": "stream",
     "text": [
      "The solution for the problem is a = -2.6832815729997477, b = -0.894427190999916\n"
     ]
    }
   ],
   "source": [
    "# Idem. Do you need a function for this? What is the most efficient way to solve it?\n",
    "a = np.array([-1,-1])\n",
    "b = np.array([3,3])\n",
    "c = np.array([1,5])\n",
    "matrix = np.array([a,b]).T\n",
    "if a[0]/a[1] == b[0]/b[1] == c[0]/c[1]:\n",
    "    print('The matrix in not linearly independent, so solution is not possible.')\n",
    "else:\n",
    "    matrix[0,0],matrix[1,1] = matrix[1,1], matrix[0,0]\n",
    "    matrix[1,0] = -matrix[1,0]\n",
    "    matrix[0,1] = -matrix[0,1]\n",
    "    matrix = 1 / (np.linalg.norm(matrix)) * matrix\n",
    "    solution = np.dot(matrix,c)\n",
    "    print(f'The solution for the problem is a = {solution[0]}, b = {solution[1]}')"
   ]
  },
  {
   "cell_type": "code",
   "execution_count": null,
   "metadata": {},
   "outputs": [],
   "source": []
  }
 ],
 "metadata": {
  "kernelspec": {
   "display_name": "Python 3",
   "language": "python",
   "name": "python3"
  },
  "language_info": {
   "codemirror_mode": {
    "name": "ipython",
    "version": 3
   },
   "file_extension": ".py",
   "mimetype": "text/x-python",
   "name": "python",
   "nbconvert_exporter": "python",
   "pygments_lexer": "ipython3",
   "version": "3.8.5"
  }
 },
 "nbformat": 4,
 "nbformat_minor": 2
}
