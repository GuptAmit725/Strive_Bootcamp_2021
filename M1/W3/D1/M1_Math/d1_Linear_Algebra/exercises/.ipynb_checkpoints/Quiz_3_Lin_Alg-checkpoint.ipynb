{
 "cells": [
  {
   "cell_type": "markdown",
   "metadata": {},
   "source": [
    "## Linear Algebra Quiz #3\n",
    "\n",
    "![title](./img/3_0.jpeg)\n",
    "\n",
    "We strongly suggest working with numpy :)"
   ]
  },
  {
   "cell_type": "code",
   "execution_count": 1,
   "metadata": {},
   "outputs": [],
   "source": [
    "#Do your imports here\n",
    "import numpy as np\n",
    "import math as  m\n"
   ]
  },
  {
   "cell_type": "markdown",
   "metadata": {},
   "source": [
    "![title](./img/3_2.png)\n",
    "![title](./img/3_3.png)\n",
    "Create a program that can output\n",
    "\n",
    "- What is the value of element c23​ of Matrix C where C=A x B ?\n",
    "- What is the value of element c23​ of Matrix C where C=B x A ?"
   ]
  },
  {
   "cell_type": "code",
   "execution_count": 12,
   "metadata": {},
   "outputs": [
    {
     "name": "stdout",
     "output_type": "stream",
     "text": [
      "[[ 1.44444444 -0.33333333 -0.77777778]\n",
      " [ 0.88888889 -0.66666667 -0.55555556]\n",
      " [-0.22222222 -0.33333333 -0.11111111]]\n"
     ]
    }
   ],
   "source": [
    "# okay numpy is great but... how would you inverse a matrix by hand?\n",
    "\n",
    "def inverse_matrix(A):\n",
    "    cofactor = np.zeros(A.shape)\n",
    "    for i in range(A.shape[0]):\n",
    "        for j in range(A.shape[1]):\n",
    "            minor = np.delete(A,i,0)\n",
    "            minor = np.delete(minor,j,1)\n",
    "            cofac = (-1**(i+j)) * np.linalg.det(minor)\n",
    "            cofactor[i][j] = cofac\n",
    "    adj_A = cofactor.T\n",
    "    inv = 1/(np.linalg.det(A)) * adj_A\n",
    "            \n",
    "    return inv\n",
    "print(inverse_matrix(np.array([[1,2,3],[2,3,1],[4,5,6]])))"
   ]
  },
  {
   "cell_type": "markdown",
   "metadata": {},
   "source": [
    "![title](./img/3_1.png)\n",
    "Create a program that can output\n",
    "\n",
    "- What is the value of the ijth element if i = 2 and j=3?\n",
    "- What is the value of the ijth element if i = 3 and j=1?"
   ]
  },
  {
   "cell_type": "code",
   "execution_count": null,
   "metadata": {},
   "outputs": [],
   "source": [
    "# Just answer using code --> easy stuff!\n",
    "\n",
    "# Harder\n",
    "# Can you build a matrix solver that can do output the result given n matrices and a sequence of operations such as [add subtract multiply transpose?]\n",
    "#Some ideas on valid operations: Multiplication Addition Subtraction Inverstion Transposed. "
   ]
  },
  {
   "cell_type": "markdown",
   "metadata": {},
   "source": [
    "![title](./img/3_3.png)\n",
    "Create a program that can output\n",
    "- How many rows will C have?\n",
    "- How many columns will C have?\n",
    "- What will be the value of c13​?"
   ]
  },
  {
   "cell_type": "code",
   "execution_count": 28,
   "metadata": {},
   "outputs": [
    {
     "name": "stdout",
     "output_type": "stream",
     "text": [
      "The multiply result is :[[721.6 389.2 570.8 718.4 728. ]]\n",
      "The rows in matrix C : 1\n",
      "The columns in matrix C : 5\n",
      "The value of C13 is :389.2\n"
     ]
    }
   ],
   "source": [
    "def matrix_multiply(A,B,i,j):\n",
    "    A = np.array(A).reshape(1,len(A))\n",
    "    B = np.array(B)\n",
    "    \n",
    "    if A.shape[1] == B.shape[0]:\n",
    "        C = np.matmul(A,B)\n",
    "        print(f'The multiply result is :{C}')\n",
    "        print(f'The rows in matrix C : {C.shape[0]}')        \n",
    "        print(f'The columns in matrix C : {C.shape[1]}')\n",
    "        if C.shape[0] <= i or C.shape[1] <= j:\n",
    "            print('The given index is out of range!')\n",
    "        else:    \n",
    "            print(f'The value of C13 is :{C[i][j]}')\n",
    "    else:\n",
    "        print('The shapes of A nad B are not compatible for multiplication!')\n",
    "    return \n",
    "A = [0.6, 10,34 ,98,5]\n",
    "B = [[1,2,3,4,5],[3,4,5,6,2],[2,1,3,4,3],[6,3,4,5,6],[7,4,5,6,3]]\n",
    "matrix_multiply(A,B,0,1)"
   ]
  },
  {
   "cell_type": "code",
   "execution_count": null,
   "metadata": {},
   "outputs": [],
   "source": []
  }
 ],
 "metadata": {
  "kernelspec": {
   "display_name": "Python 3",
   "language": "python",
   "name": "python3"
  },
  "language_info": {
   "codemirror_mode": {
    "name": "ipython",
    "version": 3
   },
   "file_extension": ".py",
   "mimetype": "text/x-python",
   "name": "python",
   "nbconvert_exporter": "python",
   "pygments_lexer": "ipython3",
   "version": "3.8.5"
  }
 },
 "nbformat": 4,
 "nbformat_minor": 2
}
