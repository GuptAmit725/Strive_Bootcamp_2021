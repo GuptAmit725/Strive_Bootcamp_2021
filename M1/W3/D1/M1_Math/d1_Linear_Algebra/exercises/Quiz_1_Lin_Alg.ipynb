{
 "cells": [
  {
   "cell_type": "markdown",
   "metadata": {},
   "source": [
    "## Linear Algebra Quiz #1\n",
    "\n",
    "![title](./img/1_0.jpeg)\n",
    "\n",
    "We strongly suggest working with numpy :)"
   ]
  },
  {
   "cell_type": "code",
   "execution_count": 15,
   "metadata": {},
   "outputs": [],
   "source": [
    "#Do your imports here\n",
    "import numpy as np\n",
    "import math as m"
   ]
  },
  {
   "cell_type": "markdown",
   "metadata": {},
   "source": [
    "![title](./img/1_1.png)"
   ]
  },
  {
   "cell_type": "code",
   "execution_count": 2,
   "metadata": {},
   "outputs": [],
   "source": [
    "# type a function that given a 3_dimensional vector it is able to calculate its magnitude\n",
    "\n",
    "def magnitude_3(a=None,b=None,c=None):\n",
    "    x = []\n",
    "    for ele in [a,b,c]:\n",
    "        if ele is not None:\n",
    "            x.append(ele)\n",
    "    x = np.array(x)\n",
    "    return np.linalg.norm(x)\n",
    "# type a function that given a n_dimensional vector it is able to calculate its magnitude\n",
    "# if you want to try this from python (not jupyter notebook) https://docs.python.org/3/library/argparse.html would be a good addition\n",
    "# if you are doing this from a jupyter notebook only, you can try to promt the user for an input  \n",
    "def magnitude_complete(*args):\n",
    "  \n",
    "    return magnitude_3(np.array(list(args)))"
   ]
  },
  {
   "cell_type": "markdown",
   "metadata": {},
   "source": [
    "uncomment the following line when you are ready to test"
   ]
  },
  {
   "cell_type": "code",
   "execution_count": 4,
   "metadata": {
    "scrolled": false
   },
   "outputs": [
    {
     "name": "stdout",
     "output_type": "stream",
     "text": [
      "True\n",
      "True\n",
      "True\n",
      "True\n",
      "True\n"
     ]
    }
   ],
   "source": [
    "\n",
    "print(magnitude_complete(1) == 1.0)\n",
    "print(magnitude_complete(1,2) >= 2.236)\n",
    "print(magnitude_complete(1,2,3) >= 3.741)\n",
    "print(magnitude_complete(1,2,3,4,5) >= 5.477)\n",
    "print(magnitude_complete(1,2,3,4,5) >= 7.416)"
   ]
  },
  {
   "cell_type": "markdown",
   "metadata": {},
   "source": [
    "![title](./img/1_2.png)"
   ]
  },
  {
   "cell_type": "code",
   "execution_count": 10,
   "metadata": {},
   "outputs": [],
   "source": [
    "def magnitude_vectors(a, b):\n",
    "    if np.array(a).size == np.array(b).size:\n",
    "        a_plus_b = np.array([a[0]+b[0],a[1]+b[1]])\n",
    "        return np.linalg.norm(a_plus_b)\n",
    "    else:\n",
    "        print('The size of vectors don not match!')\n",
    "        return None\n",
    "    #checks that size is equal\n",
    "    \n",
    "    #returns the magnitude"
   ]
  },
  {
   "cell_type": "markdown",
   "metadata": {},
   "source": [
    "![title](./img/1_3.png)"
   ]
  },
  {
   "cell_type": "code",
   "execution_count": 18,
   "metadata": {},
   "outputs": [],
   "source": [
    "def direction_vectors(a, b):\n",
    "    if np.array(a).size == np.array(b).size:\n",
    "        a_plus_b_mag = magnitude_vectors(a, b)\n",
    "        return m.atan((a[1]+b[1]) / (a[0]+b[0]))\n",
    "    else:\n",
    "        print('The size of vectors don not match!')\n",
    "        return None\n",
    "        \n",
    "    \n",
    "    #checks that size is equal\n",
    "    \n",
    "    #returns the magnitude\n",
    "    \n",
    "# or if you want to do it all in one batch:\n",
    "def magdir_vectors(a, b):\n",
    "    if np.array(a).size == np.array(b).size:\n",
    "        mag = magnitude_vectors(a,b)\n",
    "        direction = direction_vectors(a,b)\n",
    "        print(f'The magnitude of a + b is {mag} and the direction is {direction}')\n",
    "    else:\n",
    "        print('The size of vectors do not match!')\n",
    "    #checks that size is equal\n",
    "    \n",
    "    #returns the magnitude and direction in a nicely printed format \n",
    "    #\"The magnitude of a + b is X and the direction is Y\""
   ]
  },
  {
   "cell_type": "code",
   "execution_count": 19,
   "metadata": {},
   "outputs": [
    {
     "name": "stdout",
     "output_type": "stream",
     "text": [
      "The magnitude of a + b is 8.06225774829855 and the direction is 1.0516502125483738\n"
     ]
    }
   ],
   "source": [
    "magdir_vectors([1,3],[3,4])"
   ]
  },
  {
   "cell_type": "markdown",
   "metadata": {},
   "source": []
  },
  {
   "cell_type": "markdown",
   "metadata": {},
   "source": [
    "![title](./img/1_4.png)\n",
    "- What is the magnitude of αx⃗? \n",
    "- If α>0, will the direction of the resulting vector change?\n",
    "- If α<0, will the direction of the resulting vector change?\n",
    "- If −1<α<1, will ∥αx⃗∥  increase, decrease or stay the same?"
   ]
  },
  {
   "cell_type": "code",
   "execution_count": 23,
   "metadata": {},
   "outputs": [
    {
     "name": "stdout",
     "output_type": "stream",
     "text": [
      "The direction has reversed.\n"
     ]
    }
   ],
   "source": [
    "def alpha_magnitude(alpha, b):\n",
    "    change_vec = alpha * np.array(b,dtype=np.float32)\n",
    "    if alpha > 0:\n",
    "        if m.atan(b[1]/b[0]) == m.atan(change_vec[1]/change_vec[0]):\n",
    "            print(f'For alpha > 0 the direction of vector does not changes.')\n",
    "        else:\n",
    "            print(f'Direction changed to {m.atan(change_vec[1]/change_vec[0])}')\n",
    "    elif alpha < 0:\n",
    "        if m.atan(b[1]/b[0]) + m.atan(change_vec[1]/change_vec[0]) == 0:\n",
    "            print(f'The direction has reversed.')\n",
    "        elif m.atan(b[1]/b[0]) == m.atan(change_vec[1]/change_vec[0]):\n",
    "            print(f'The direction has reversed.')\n",
    "        else:\n",
    "            print(f'The direction has changed and it is {m.atan(change_vec[1]/change_vec[0])}')\n",
    "    return \n",
    "alpha_magnitude(-0.7, [1,2,3])\n",
    "        \n",
    "    #returns the resulting magnitude, if the direction has changed and what has happened to the vector"
   ]
  },
  {
   "cell_type": "code",
   "execution_count": null,
   "metadata": {},
   "outputs": [],
   "source": []
  }
 ],
 "metadata": {
  "kernelspec": {
   "display_name": "Python 3",
   "language": "python",
   "name": "python3"
  },
  "language_info": {
   "codemirror_mode": {
    "name": "ipython",
    "version": 3
   },
   "file_extension": ".py",
   "mimetype": "text/x-python",
   "name": "python",
   "nbconvert_exporter": "python",
   "pygments_lexer": "ipython3",
   "version": "3.8.5"
  }
 },
 "nbformat": 4,
 "nbformat_minor": 2
}
