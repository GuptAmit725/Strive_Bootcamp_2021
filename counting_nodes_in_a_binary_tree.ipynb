{
 "cells": [
  {
   "cell_type": "markdown",
   "id": "6eb6847b",
   "metadata": {},
   "source": [
    "<h1><I>Iterative approach"
   ]
  },
  {
   "cell_type": "code",
   "execution_count": 31,
   "id": "7c012886",
   "metadata": {},
   "outputs": [
    {
     "name": "stdout",
     "output_type": "stream",
     "text": [
      "Total number of nodes in the tree are: 11\n"
     ]
    }
   ],
   "source": [
    "class node: #Creating the node\n",
    "    def __init__(self, info):\n",
    "        self.left = None\n",
    "        self.right = None\n",
    "        self.info = info\n",
    "def insert(ptr, key): # insering element into the tree\n",
    "    if ptr is None:\n",
    "        ptr = node(key)\n",
    "    elif (key <= ptr.info):\n",
    "        ptr.left = insert(ptr.left,key)\n",
    "    else:\n",
    "        ptr.right = insert(ptr.right,key)\n",
    "    return ptr\n",
    "def countNodes(root): #counting the nodes by iterative approach by implementing stack\n",
    "    count = 0\n",
    "    stack = []\n",
    "    temp = root\n",
    "    stack.append(root)\n",
    "    while (len(stack)>0):\n",
    "        node = stack.pop(0)\n",
    "        if node:\n",
    "            count+=1\n",
    "        if node.left:\n",
    "            stack.append(node.left)\n",
    "        if node.right:\n",
    "            stack.append(node.right)\n",
    "            \n",
    "    return count\n",
    "\n",
    "if __name__ == '__main__' : #the compiler rund this block of code first.\n",
    "    root = None\n",
    "    for i in [10,20,5,50,4,5,6,6,4,3,2]:\n",
    "        root = insert(root,i)\n",
    "    count = countNodes(root)\n",
    "    print(f'Total number of nodes in the tree are: {count}')\n"
   ]
  },
  {
   "cell_type": "markdown",
   "id": "6bb2fb23",
   "metadata": {},
   "source": [
    "<h1><I>Recursive approach<br></h1>\n",
    "     <font color='blue'>count = {<br>0, root = None<br>\n",
    "                                     +1, root.left is NOT None<br>\n",
    "                  +1, root.right is NOT None<br>  \n",
    "                 }"
   ]
  },
  {
   "cell_type": "code",
   "execution_count": 15,
   "id": "6938f750",
   "metadata": {},
   "outputs": [
    {
     "name": "stdout",
     "output_type": "stream",
     "text": [
      "Total number of nodes in the tree are: 5\n"
     ]
    }
   ],
   "source": [
    "class node: #Creating the node\n",
    "    def __init__(self, info):\n",
    "        self.left = None\n",
    "        self.right = None\n",
    "        self.info = info\n",
    "def insert(ptr, key): # insering element into the tree\n",
    "    if ptr is None:\n",
    "        ptr = node(key)\n",
    "    elif (key <= ptr.info):\n",
    "        ptr.left = insert(ptr.left,key)\n",
    "    else:\n",
    "        ptr.right = insert(ptr.right,key)\n",
    "    return ptr\n",
    "def countNodes(root): #counting the nodes by iterative approach\n",
    "    temp = root\n",
    "    if temp is None:\n",
    "        return 0\n",
    "    return 1 + countNodes(root.left)+countNodes(root.right)\n",
    "\n",
    "if __name__ == '__main__' : #the compiler rund this block of code first.\n",
    "    root = None\n",
    "    for i in [10,20,5,50,6]:\n",
    "        root = insert(root,i)\n",
    "    count = countNodes(root)\n",
    "    print(f'Total number of nodes in the tree are: {countNodes(root)}')\n"
   ]
  },
  {
   "cell_type": "code",
   "execution_count": null,
   "id": "c2daa36b",
   "metadata": {},
   "outputs": [],
   "source": []
  }
 ],
 "metadata": {
  "kernelspec": {
   "display_name": "Python 3",
   "language": "python",
   "name": "python3"
  },
  "language_info": {
   "codemirror_mode": {
    "name": "ipython",
    "version": 3
   },
   "file_extension": ".py",
   "mimetype": "text/x-python",
   "name": "python",
   "nbconvert_exporter": "python",
   "pygments_lexer": "ipython3",
   "version": "3.8.5"
  }
 },
 "nbformat": 4,
 "nbformat_minor": 5
}
